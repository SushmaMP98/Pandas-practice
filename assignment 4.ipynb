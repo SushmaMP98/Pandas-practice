{
 "cells": [
  {
   "cell_type": "code",
   "execution_count": 2,
   "id": "90637336",
   "metadata": {},
   "outputs": [
    {
     "name": "stdout",
     "output_type": "stream",
     "text": [
      "enter a number56\n",
      "number is positive\n"
     ]
    }
   ],
   "source": [
    "number=int(input(\"enter a number\"))\n",
    "if number>0:\n",
    "    print(\"number is positive\")\n",
    "elif number==0:\n",
    "    print(\"you have entered number is zero\")\n",
    "else:\n",
    "    print(\"number is negative\")"
   ]
  },
  {
   "cell_type": "markdown",
   "id": "04b7da20",
   "metadata": {},
   "source": []
  },
  {
   "cell_type": "raw",
   "id": "18b3ef2d",
   "metadata": {},
   "source": []
  },
  {
   "cell_type": "code",
   "execution_count": 4,
   "id": "f24b1a42",
   "metadata": {},
   "outputs": [
    {
     "name": "stdout",
     "output_type": "stream",
     "text": [
      "enter a value98\n"
     ]
    }
   ],
   "source": [
    "number=input(\"enter a value\")"
   ]
  },
  {
   "cell_type": "code",
   "execution_count": 5,
   "id": "99e39efd",
   "metadata": {},
   "outputs": [
    {
     "data": {
      "text/plain": [
       "int"
      ]
     },
     "execution_count": 5,
     "metadata": {},
     "output_type": "execute_result"
    }
   ],
   "source": [
    "type(number)"
   ]
  },
  {
   "cell_type": "code",
   "execution_count": 14,
   "id": "e70eb518",
   "metadata": {},
   "outputs": [],
   "source": [
    "def abc (name,age):\n",
    "    \n",
    "    print('my name is',name)\n",
    "    print('my age is',age)"
   ]
  },
  {
   "cell_type": "code",
   "execution_count": 15,
   "id": "745db891",
   "metadata": {},
   "outputs": [
    {
     "name": "stdout",
     "output_type": "stream",
     "text": [
      "my name is neha\n",
      "my age is 30\n"
     ]
    }
   ],
   "source": [
    " abc ('neha',30)"
   ]
  },
  {
   "cell_type": "code",
   "execution_count": 24,
   "id": "49e4f776",
   "metadata": {},
   "outputs": [],
   "source": [
    "def  country (country='norway'):\n",
    "    print('my country is',country)"
   ]
  },
  {
   "cell_type": "code",
   "execution_count": 23,
   "id": "499a2e25",
   "metadata": {},
   "outputs": [
    {
     "name": "stdout",
     "output_type": "stream",
     "text": [
      "my country is sweden\n"
     ]
    }
   ],
   "source": [
    "  country ('sweden')"
   ]
  },
  {
   "cell_type": "code",
   "execution_count": 25,
   "id": "51db861e",
   "metadata": {},
   "outputs": [
    {
     "name": "stdout",
     "output_type": "stream",
     "text": [
      "my country is norway\n"
     ]
    }
   ],
   "source": [
    "  country()"
   ]
  },
  {
   "cell_type": "code",
   "execution_count": 28,
   "id": "c7114c58",
   "metadata": {},
   "outputs": [],
   "source": [
    "b=99\n",
    "def  test():\n",
    "    b = 88\n",
    "    print(\"local var\",a)"
   ]
  },
  {
   "cell_type": "code",
   "execution_count": 29,
   "id": "612c9ee0",
   "metadata": {},
   "outputs": [
    {
     "name": "stdout",
     "output_type": "stream",
     "text": [
      "local var 88\n"
     ]
    }
   ],
   "source": [
    " test()"
   ]
  },
  {
   "cell_type": "code",
   "execution_count": null,
   "id": "2269dc6c",
   "metadata": {},
   "outputs": [],
   "source": [
    "a=36\n",
    "def test():\n",
    "    global a\n",
    "    a = 44\n",
    "    print(\"local var\",a)"
   ]
  },
  {
   "cell_type": "code",
   "execution_count": 30,
   "id": "c12671ed",
   "metadata": {},
   "outputs": [
    {
     "name": "stdout",
     "output_type": "stream",
     "text": [
      "local var 88\n"
     ]
    }
   ],
   "source": [
    "test()"
   ]
  },
  {
   "cell_type": "code",
   "execution_count": 32,
   "id": "3edf59d8",
   "metadata": {},
   "outputs": [
    {
     "data": {
      "text/plain": [
       "99"
      ]
     },
     "execution_count": 32,
     "metadata": {},
     "output_type": "execute_result"
    }
   ],
   "source": [
    "a"
   ]
  },
  {
   "cell_type": "code",
   "execution_count": 46,
   "id": "adfd3a35",
   "metadata": {},
   "outputs": [],
   "source": [
    "def  cal_tax():\n",
    "    if i<30000:\n",
    "        tax=\"0%\"\n",
    "    elif 31000<i>50000:\n",
    "        tax=\"5%\"\n",
    "    else:\n",
    "        tax=\"10%\""
   ]
  },
  {
   "cell_type": "code",
   "execution_count": 48,
   "id": "592f127b",
   "metadata": {},
   "outputs": [],
   "source": [
    "salary = [10000,35000,56000,75000]"
   ]
  },
  {
   "cell_type": "code",
   "execution_count": 47,
   "id": "6152df4d",
   "metadata": {},
   "outputs": [
    {
     "ename": "NameError",
     "evalue": "name 'salary' is not defined",
     "output_type": "error",
     "traceback": [
      "\u001b[1;31m---------------------------------------------------------------------------\u001b[0m",
      "\u001b[1;31mNameError\u001b[0m                                 Traceback (most recent call last)",
      "\u001b[1;32m~\\AppData\\Local\\Temp\\ipykernel_784\\1058297581.py\u001b[0m in \u001b[0;36m<module>\u001b[1;34m\u001b[0m\n\u001b[1;32m----> 1\u001b[1;33m \u001b[0mprint\u001b[0m\u001b[1;33m(\u001b[0m\u001b[0mlist\u001b[0m\u001b[1;33m(\u001b[0m\u001b[0mmap\u001b[0m\u001b[1;33m(\u001b[0m \u001b[0mcal_tax\u001b[0m\u001b[1;33m,\u001b[0m\u001b[0msalary\u001b[0m\u001b[1;33m)\u001b[0m\u001b[1;33m)\u001b[0m\u001b[1;33m)\u001b[0m\u001b[1;33m\u001b[0m\u001b[1;33m\u001b[0m\u001b[0m\n\u001b[0m",
      "\u001b[1;31mNameError\u001b[0m: name 'salary' is not defined"
     ]
    }
   ],
   "source": [
    "print(list(map( cal_tax,salary)))"
   ]
  },
  {
   "cell_type": "code",
   "execution_count": 45,
   "id": "24ffffd5",
   "metadata": {},
   "outputs": [
    {
     "name": "stdout",
     "output_type": "stream",
     "text": [
      "<map object at 0x000002836B75BD60>\n",
      "[1, 4, 9, 16]\n"
     ]
    }
   ],
   "source": [
    "def cal_square(n):\n",
    "    return n*n\n",
    "numbers=(1,2,3,4)\n",
    "result=map(cal_square, numbers)\n",
    "print(result)\n",
    "numbersquare=list(result)\n",
    "print(numbersquare)"
   ]
  },
  {
   "cell_type": "code",
   "execution_count": 49,
   "id": "79be9af2",
   "metadata": {},
   "outputs": [],
   "source": [
    "result=list(map(cal_square, numbers))"
   ]
  },
  {
   "cell_type": "code",
   "execution_count": 50,
   "id": "c8954ccc",
   "metadata": {},
   "outputs": [
    {
     "name": "stdout",
     "output_type": "stream",
     "text": [
      "[1, 4, 9, 16]\n"
     ]
    }
   ],
   "source": [
    "print(result)"
   ]
  },
  {
   "cell_type": "code",
   "execution_count": 51,
   "id": "273e8fbe",
   "metadata": {},
   "outputs": [
    {
     "name": "stdout",
     "output_type": "stream",
     "text": [
      "[1, 4, 9, 16]\n"
     ]
    }
   ],
   "source": [
    "num1=[4,5,6]\n",
    "num2=[5,6,7]\n",
    "reult=map(lambda n1, n2:n1+n2,num1,num2)\n",
    "print(list(result))"
   ]
  },
  {
   "cell_type": "code",
   "execution_count": 60,
   "id": "80f188b8",
   "metadata": {},
   "outputs": [
    {
     "name": "stdout",
     "output_type": "stream",
     "text": [
      "filtervowels\n",
      "a\n",
      "e\n",
      "i\n",
      "o\n"
     ]
    }
   ],
   "source": [
    "alphabets=[\"a\",\"b\",\"c\",\"d\",\"e\",\"i\",\"j\",\"o\"]\n",
    "def filtervowels(alphabets):\n",
    "    vowels=[\"a\",\"e\",\"i\",\"o\",\"u\"]\n",
    "    if alphabets in vowels:\n",
    "        return True\n",
    "    else:\n",
    "        return False\n",
    "filtervowels=filter(filtervowels,alphabets)\n",
    "print(\"filtervowels\")\n",
    "for vowel in filtervowels:\n",
    "    print(vowel)"
   ]
  },
  {
   "cell_type": "code",
   "execution_count": 61,
   "id": "2a6d86ab",
   "metadata": {},
   "outputs": [
    {
     "name": "stdout",
     "output_type": "stream",
     "text": [
      "[]\n"
     ]
    }
   ],
   "source": [
    "print(list(filtervowels))"
   ]
  },
  {
   "cell_type": "code",
   "execution_count": null,
   "id": "c2a1c598",
   "metadata": {},
   "outputs": [],
   "source": [
    "alphabets=str(input(enter a value))\n",
    "def "
   ]
  },
  {
   "cell_type": "code",
   "execution_count": null,
   "id": "c1d607c5",
   "metadata": {},
   "outputs": [],
   "source": [
    "from functools import reduce"
   ]
  },
  {
   "cell_type": "code",
   "execution_count": 64,
   "id": "d6a882c3",
   "metadata": {},
   "outputs": [
    {
     "ename": "NameError",
     "evalue": "name 'reduce' is not defined",
     "output_type": "error",
     "traceback": [
      "\u001b[1;31m---------------------------------------------------------------------------\u001b[0m",
      "\u001b[1;31mNameError\u001b[0m                                 Traceback (most recent call last)",
      "\u001b[1;32m~\\AppData\\Local\\Temp\\ipykernel_784\\480829022.py\u001b[0m in \u001b[0;36m<module>\u001b[1;34m\u001b[0m\n\u001b[0;32m      1\u001b[0m \u001b[0mnum\u001b[0m\u001b[1;33m=\u001b[0m\u001b[1;33m(\u001b[0m\u001b[1;36m1\u001b[0m\u001b[1;33m,\u001b[0m\u001b[1;36m2\u001b[0m\u001b[1;33m,\u001b[0m\u001b[1;36m3\u001b[0m\u001b[1;33m,\u001b[0m\u001b[1;36m4\u001b[0m\u001b[1;33m,\u001b[0m\u001b[1;36m5\u001b[0m\u001b[1;33m,\u001b[0m\u001b[1;36m6\u001b[0m\u001b[1;33m)\u001b[0m\u001b[1;33m\u001b[0m\u001b[1;33m\u001b[0m\u001b[0m\n\u001b[1;32m----> 2\u001b[1;33m \u001b[0msum\u001b[0m\u001b[1;33m=\u001b[0m\u001b[0mreduce\u001b[0m\u001b[1;33m(\u001b[0m\u001b[1;32mlambda\u001b[0m \u001b[0ma\u001b[0m\u001b[1;33m,\u001b[0m\u001b[0mb\u001b[0m\u001b[1;33m:\u001b[0m\u001b[0ma\u001b[0m\u001b[1;33m+\u001b[0m\u001b[0mb\u001b[0m\u001b[1;33m,\u001b[0m\u001b[0mnums\u001b[0m\u001b[1;33m)\u001b[0m\u001b[1;33m\u001b[0m\u001b[1;33m\u001b[0m\u001b[0m\n\u001b[0m\u001b[0;32m      3\u001b[0m \u001b[0mprint\u001b[0m\u001b[1;33m(\u001b[0m\u001b[0msum\u001b[0m\u001b[1;33m)\u001b[0m\u001b[1;33m\u001b[0m\u001b[1;33m\u001b[0m\u001b[0m\n",
      "\u001b[1;31mNameError\u001b[0m: name 'reduce' is not defined"
     ]
    }
   ],
   "source": [
    "num=(1,2,3,4,5,6)\n",
    "sum=reduce(lambda a,b:a+b,nums)\n",
    "print(sum)"
   ]
  },
  {
   "cell_type": "code",
   "execution_count": 65,
   "id": "3fa799e4",
   "metadata": {},
   "outputs": [
    {
     "data": {
      "text/plain": [
       "30"
      ]
     },
     "execution_count": 65,
     "metadata": {},
     "output_type": "execute_result"
    }
   ],
   "source": [
    "sum=lambda arg1, arg2: arg1+arg2\n",
    "sum(10,20)"
   ]
  },
  {
   "cell_type": "code",
   "execution_count": null,
   "id": "79ddc2fb",
   "metadata": {},
   "outputs": [],
   "source": [
    "#lamba is shortcut of def function"
   ]
  }
 ],
 "metadata": {
  "kernelspec": {
   "display_name": "Python 3 (ipykernel)",
   "language": "python",
   "name": "python3"
  },
  "language_info": {
   "codemirror_mode": {
    "name": "ipython",
    "version": 3
   },
   "file_extension": ".py",
   "mimetype": "text/x-python",
   "name": "python",
   "nbconvert_exporter": "python",
   "pygments_lexer": "ipython3",
   "version": "3.9.13"
  }
 },
 "nbformat": 4,
 "nbformat_minor": 5
}
