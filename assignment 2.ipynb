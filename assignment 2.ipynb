{
 "cells": [
  {
   "cell_type": "code",
   "execution_count": 5,
   "id": "037ad95b",
   "metadata": {},
   "outputs": [],
   "source": [
    "a =[1,2,3,4,5]\n",
    "b =[]"
   ]
  },
  {
   "cell_type": "code",
   "execution_count": 6,
   "id": "f1f39b44",
   "metadata": {},
   "outputs": [
    {
     "name": "stdout",
     "output_type": "stream",
     "text": [
      "[2, 3, 4, 5, 6]\n"
     ]
    }
   ],
   "source": [
    "for i in a:\n",
    "    b.append(i+1)\n",
    "print(b)"
   ]
  },
  {
   "cell_type": "code",
   "execution_count": 13,
   "id": "f3afbf00",
   "metadata": {},
   "outputs": [],
   "source": [
    "b = [i for i in a]"
   ]
  },
  {
   "cell_type": "code",
   "execution_count": 14,
   "id": "d09f54e0",
   "metadata": {},
   "outputs": [
    {
     "name": "stdout",
     "output_type": "stream",
     "text": [
      "[1, 2, 3, 4, 5]\n"
     ]
    }
   ],
   "source": [
    "print(b)"
   ]
  },
  {
   "cell_type": "code",
   "execution_count": 20,
   "id": "b26b76d6",
   "metadata": {},
   "outputs": [
    {
     "name": "stdout",
     "output_type": "stream",
     "text": [
      "56\n"
     ]
    }
   ],
   "source": [
    "a=[1,3,4,9,10,29]\n",
    "b=0\n",
    "for i in a:\n",
    "    b=b+i\n",
    "print(b)"
   ]
  },
  {
   "cell_type": "code",
   "execution_count": 23,
   "id": "554447bd",
   "metadata": {},
   "outputs": [
    {
     "name": "stdout",
     "output_type": "stream",
     "text": [
      "31320\n"
     ]
    }
   ],
   "source": [
    "a=[1,3,4,9,10,29]\n",
    "b=1\n",
    "for i in a:\n",
    "    b=b*i\n",
    "print(b)"
   ]
  },
  {
   "cell_type": "code",
   "execution_count": 25,
   "id": "87b6d27a",
   "metadata": {},
   "outputs": [
    {
     "name": "stdout",
     "output_type": "stream",
     "text": [
      "['Sushma', 'Tutti', 'Bunty']\n"
     ]
    }
   ],
   "source": [
    "a=[\"sushma\", \"tutti\",\"bunty\"]\n",
    "b=[]\n",
    "for i in a:\n",
    "    b.append(i.capitalize())\n",
    "print(b)"
   ]
  },
  {
   "cell_type": "code",
   "execution_count": 27,
   "id": "12c7106b",
   "metadata": {},
   "outputs": [
    {
     "name": "stdout",
     "output_type": "stream",
     "text": [
      "['Sushma', 'Tutti', 'Bunty']\n"
     ]
    }
   ],
   "source": [
    "b=[i.capitalize() for i in a]\n",
    "print(b)"
   ]
  },
  {
   "cell_type": "code",
   "execution_count": 63,
   "id": "f3a9485d",
   "metadata": {},
   "outputs": [
    {
     "name": "stdout",
     "output_type": "stream",
     "text": [
      "[1, 3, 5]\n"
     ]
    }
   ],
   "source": [
    "a=[1,2,3,4,5,6]\n",
    "even=[]\n",
    "odd=[]\n",
    "fraction=[]\n",
    "for i in a:\n",
    "    if i % 2 == 0:\n",
    "        even.append(i)\n",
    "    elif i%2==1:\n",
    "            odd.append(i)\n",
    "print(odd)"
   ]
  },
  {
   "cell_type": "code",
   "execution_count": 70,
   "id": "da5786d8",
   "metadata": {},
   "outputs": [
    {
     "name": "stdout",
     "output_type": "stream",
     "text": [
      "[2, 4, 6]\n"
     ]
    }
   ],
   "source": [
    "even=[i for i in a if i%2 == 0]\n",
    "print(even)"
   ]
  },
  {
   "cell_type": "code",
   "execution_count": 68,
   "id": "cc814f0e",
   "metadata": {},
   "outputs": [
    {
     "data": {
      "text/plain": [
       "1"
      ]
     },
     "execution_count": 68,
     "metadata": {},
     "output_type": "execute_result"
    }
   ],
   "source": []
  },
  {
   "cell_type": "code",
   "execution_count": 72,
   "id": "f0c62bf0",
   "metadata": {},
   "outputs": [
    {
     "name": "stdout",
     "output_type": "stream",
     "text": [
      "[]\n"
     ]
    }
   ],
   "source": [
    "l=[\"sush\",\"pappa\",\"pro\",\"opeb\"]\n",
    "d=[]\n",
    "for i in l:\n",
    "    if i in \"aeiou\":\n",
    "        d.append(i)\n",
    "print(d)"
   ]
  },
  {
   "cell_type": "code",
   "execution_count": 74,
   "id": "b368e62b",
   "metadata": {},
   "outputs": [
    {
     "name": "stdout",
     "output_type": "stream",
     "text": [
      "[]\n"
     ]
    }
   ],
   "source": [
    "d=[i for i in l if i in \"aeiou\"]\n",
    "print(d)"
   ]
  },
  {
   "cell_type": "code",
   "execution_count": 79,
   "id": "c10503c5",
   "metadata": {},
   "outputs": [
    {
     "name": "stdout",
     "output_type": "stream",
     "text": [
      "['opeb']\n"
     ]
    }
   ],
   "source": [
    "for i in l:\n",
    "    if i[0] in \"aeiou\":\n",
    "        d.append(i)\n",
    "print(d)"
   ]
  },
  {
   "cell_type": "code",
   "execution_count": 82,
   "id": "87ea9f5a",
   "metadata": {},
   "outputs": [
    {
     "name": "stdout",
     "output_type": "stream",
     "text": [
      "['opeb']\n"
     ]
    }
   ],
   "source": [
    "d=[i for i in l if i[0] in \"aeiou\"]\n",
    "print(d)"
   ]
  },
  {
   "cell_type": "code",
   "execution_count": 88,
   "id": "427c02de",
   "metadata": {},
   "outputs": [
    {
     "name": "stdout",
     "output_type": "stream",
     "text": [
      "['opeb']\n"
     ]
    }
   ],
   "source": [
    "def myfun(names):\n",
    "    d=[]\n",
    "    for i in names:\n",
    "        if i[0]==p:\n",
    "            d.append(i)\n",
    "print(d)"
   ]
  },
  {
   "cell_type": "code",
   "execution_count": 91,
   "id": "d8285925",
   "metadata": {},
   "outputs": [
    {
     "ename": "SyntaxError",
     "evalue": "invalid syntax (2830534743.py, line 1)",
     "output_type": "error",
     "traceback": [
      "\u001b[1;36m  File \u001b[1;32m\"C:\\Users\\Srushti M Prakash\\AppData\\Local\\Temp\\ipykernel_9704\\2830534743.py\"\u001b[1;36m, line \u001b[1;32m1\u001b[0m\n\u001b[1;33m    def convert to fahrenhit(celsius):\u001b[0m\n\u001b[1;37m                ^\u001b[0m\n\u001b[1;31mSyntaxError\u001b[0m\u001b[1;31m:\u001b[0m invalid syntax\n"
     ]
    }
   ],
   "source": [
    "def convert to fahrenhit(celsius):\n",
    "    product=celsius*1.8\n",
    "    return product +32\n",
    "covert to fahrenhit(36)"
   ]
  },
  {
   "cell_type": "code",
   "execution_count": 92,
   "id": "d3376933",
   "metadata": {},
   "outputs": [
    {
     "data": {
      "text/plain": [
       "30"
      ]
     },
     "execution_count": 92,
     "metadata": {},
     "output_type": "execute_result"
    }
   ],
   "source": [
    "def my_function(x):\n",
    "    return 5*x\n",
    "my_function(6)"
   ]
  },
  {
   "cell_type": "code",
   "execution_count": 93,
   "id": "991826a3",
   "metadata": {},
   "outputs": [
    {
     "data": {
      "text/plain": [
       "100"
      ]
     },
     "execution_count": 93,
     "metadata": {},
     "output_type": "execute_result"
    }
   ],
   "source": [
    "my_function(20)"
   ]
  },
  {
   "cell_type": "code",
   "execution_count": 100,
   "id": "99926502",
   "metadata": {},
   "outputs": [
    {
     "ename": "SyntaxError",
     "evalue": "invalid syntax (3585479803.py, line 1)",
     "output_type": "error",
     "traceback": [
      "\u001b[1;36m  File \u001b[1;32m\"C:\\Users\\Srushti M Prakash\\AppData\\Local\\Temp\\ipykernel_9704\\3585479803.py\"\u001b[1;36m, line \u001b[1;32m1\u001b[0m\n\u001b[1;33m    def my_function(\"\"):\u001b[0m\n\u001b[1;37m                    ^\u001b[0m\n\u001b[1;31mSyntaxError\u001b[0m\u001b[1;31m:\u001b[0m invalid syntax\n"
     ]
    }
   ],
   "source": [
    "def my_function(\"\"):\n",
    "    print(\"my name is\"+ \"\")"
   ]
  },
  {
   "cell_type": "code",
   "execution_count": 96,
   "id": "e8988148",
   "metadata": {},
   "outputs": [
    {
     "ename": "SyntaxError",
     "evalue": "invalid syntax (3357552740.py, line 1)",
     "output_type": "error",
     "traceback": [
      "\u001b[1;36m  File \u001b[1;32m\"C:\\Users\\Srushti M Prakash\\AppData\\Local\\Temp\\ipykernel_9704\\3357552740.py\"\u001b[1;36m, line \u001b[1;32m1\u001b[0m\n\u001b[1;33m    my function(\"sushma\")\u001b[0m\n\u001b[1;37m       ^\u001b[0m\n\u001b[1;31mSyntaxError\u001b[0m\u001b[1;31m:\u001b[0m invalid syntax\n"
     ]
    }
   ],
   "source": [
    "my_function(\"sushma\")"
   ]
  },
  {
   "cell_type": "code",
   "execution_count": 102,
   "id": "fc00b8e5",
   "metadata": {},
   "outputs": [
    {
     "ename": "SyntaxError",
     "evalue": "invalid syntax (2852775385.py, line 1)",
     "output_type": "error",
     "traceback": [
      "\u001b[1;36m  File \u001b[1;32m\"C:\\Users\\Srushti M Prakash\\AppData\\Local\\Temp\\ipykernel_9704\\2852775385.py\"\u001b[1;36m, line \u001b[1;32m1\u001b[0m\n\u001b[1;33m    def my_fun(country==\"norway\"):\u001b[0m\n\u001b[1;37m                      ^\u001b[0m\n\u001b[1;31mSyntaxError\u001b[0m\u001b[1;31m:\u001b[0m invalid syntax\n"
     ]
    }
   ],
   "source": [
    "def my_fun(country):\n",
    "    print(\"my country is\",country)"
   ]
  },
  {
   "cell_type": "code",
   "execution_count": 150,
   "id": "b98f0d59",
   "metadata": {},
   "outputs": [
    {
     "ename": "NameError",
     "evalue": "name 'my_fun' is not defined",
     "output_type": "error",
     "traceback": [
      "\u001b[1;31m---------------------------------------------------------------------------\u001b[0m",
      "\u001b[1;31mNameError\u001b[0m                                 Traceback (most recent call last)",
      "\u001b[1;32m~\\AppData\\Local\\Temp\\ipykernel_9704\\4216872002.py\u001b[0m in \u001b[0;36m<module>\u001b[1;34m\u001b[0m\n\u001b[1;32m----> 1\u001b[1;33m \u001b[0mprint\u001b[0m\u001b[1;33m(\u001b[0m\u001b[0mmy_fun\u001b[0m\u001b[1;33m(\u001b[0m\u001b[1;34m\"sweden\"\u001b[0m\u001b[1;33m)\u001b[0m\u001b[1;33m)\u001b[0m\u001b[1;33m\u001b[0m\u001b[1;33m\u001b[0m\u001b[0m\n\u001b[0m",
      "\u001b[1;31mNameError\u001b[0m: name 'my_fun' is not defined"
     ]
    }
   ],
   "source": [
    "print(my_fun(\"sweden\"))"
   ]
  },
  {
   "cell_type": "code",
   "execution_count": 147,
   "id": "baf74b9a",
   "metadata": {},
   "outputs": [
    {
     "ename": "NameError",
     "evalue": "name 'my_fun' is not defined",
     "output_type": "error",
     "traceback": [
      "\u001b[1;31m---------------------------------------------------------------------------\u001b[0m",
      "\u001b[1;31mNameError\u001b[0m                                 Traceback (most recent call last)",
      "\u001b[1;32m~\\AppData\\Local\\Temp\\ipykernel_9704\\385893266.py\u001b[0m in \u001b[0;36m<module>\u001b[1;34m\u001b[0m\n\u001b[1;32m----> 1\u001b[1;33m \u001b[0mprint\u001b[0m\u001b[1;33m(\u001b[0m\u001b[0mmy_fun\u001b[0m\u001b[1;33m(\u001b[0m\u001b[1;33m)\u001b[0m\u001b[1;33m)\u001b[0m\u001b[1;33m\u001b[0m\u001b[1;33m\u001b[0m\u001b[0m\n\u001b[0m",
      "\u001b[1;31mNameError\u001b[0m: name 'my_fun' is not defined"
     ]
    }
   ],
   "source": [
    "print(my_fun())"
   ]
  },
  {
   "cell_type": "code",
   "execution_count": 115,
   "id": "ff6402a1",
   "metadata": {},
   "outputs": [
    {
     "ename": "NameError",
     "evalue": "name 'Norway' is not defined",
     "output_type": "error",
     "traceback": [
      "\u001b[1;31m---------------------------------------------------------------------------\u001b[0m",
      "\u001b[1;31mNameError\u001b[0m                                 Traceback (most recent call last)",
      "\u001b[1;32m~\\AppData\\Local\\Temp\\ipykernel_9704\\874922755.py\u001b[0m in \u001b[0;36m<module>\u001b[1;34m\u001b[0m\n\u001b[1;32m----> 1\u001b[1;33m \u001b[1;32mdef\u001b[0m \u001b[0mprint_country\u001b[0m\u001b[1;33m(\u001b[0m\u001b[0mx\u001b[0m \u001b[1;33m=\u001b[0m \u001b[0mNorway\u001b[0m\u001b[1;33m)\u001b[0m\u001b[1;33m:\u001b[0m\u001b[1;33m\u001b[0m\u001b[1;33m\u001b[0m\u001b[0m\n\u001b[0m\u001b[0;32m      2\u001b[0m     \u001b[0mprint\u001b[0m\u001b[1;33m(\u001b[0m\u001b[1;34m\"I am from \"\u001b[0m\u001b[1;33m,\u001b[0m\u001b[0mx\u001b[0m\u001b[1;33m)\u001b[0m\u001b[1;33m\u001b[0m\u001b[1;33m\u001b[0m\u001b[0m\n",
      "\u001b[1;31mNameError\u001b[0m: name 'Norway' is not defined"
     ]
    }
   ],
   "source": [
    "def print_country(x = Norway):\n",
    "    print(\"I am from \",x)"
   ]
  },
  {
   "cell_type": "markdown",
   "id": "40e75d4d",
   "metadata": {},
   "source": []
  },
  {
   "cell_type": "code",
   "execution_count": 116,
   "id": "c1e5ca3b",
   "metadata": {},
   "outputs": [
    {
     "ename": "NameError",
     "evalue": "name 'sweden' is not defined",
     "output_type": "error",
     "traceback": [
      "\u001b[1;31m---------------------------------------------------------------------------\u001b[0m",
      "\u001b[1;31mNameError\u001b[0m                                 Traceback (most recent call last)",
      "\u001b[1;32m~\\AppData\\Local\\Temp\\ipykernel_9704\\3526385835.py\u001b[0m in \u001b[0;36m<module>\u001b[1;34m\u001b[0m\n\u001b[1;32m----> 1\u001b[1;33m \u001b[0mprint_country\u001b[0m\u001b[1;33m(\u001b[0m\u001b[0msweden\u001b[0m\u001b[1;33m)\u001b[0m\u001b[1;33m\u001b[0m\u001b[1;33m\u001b[0m\u001b[0m\n\u001b[0m",
      "\u001b[1;31mNameError\u001b[0m: name 'sweden' is not defined"
     ]
    }
   ],
   "source": [
    "print_country(sweden)"
   ]
  },
  {
   "cell_type": "code",
   "execution_count": 108,
   "id": "55e52c1d",
   "metadata": {},
   "outputs": [],
   "source": [
    "def print_name(x):\n",
    "    print(\"your name is\",x)"
   ]
  },
  {
   "cell_type": "code",
   "execution_count": 110,
   "id": "797d2b7b",
   "metadata": {},
   "outputs": [
    {
     "name": "stdout",
     "output_type": "stream",
     "text": [
      "your name is sushma\n"
     ]
    }
   ],
   "source": [
    "print_name(\"sushma\")"
   ]
  },
  {
   "cell_type": "code",
   "execution_count": 120,
   "id": "7e302308",
   "metadata": {},
   "outputs": [],
   "source": [
    "def country_name(x):\n",
    "    print(\"i am from\",x)"
   ]
  },
  {
   "cell_type": "code",
   "execution_count": 122,
   "id": "063b6ae5",
   "metadata": {},
   "outputs": [
    {
     "ename": "NameError",
     "evalue": "name 'country_name' is not defined",
     "output_type": "error",
     "traceback": [
      "\u001b[1;31m---------------------------------------------------------------------------\u001b[0m",
      "\u001b[1;31mNameError\u001b[0m                                 Traceback (most recent call last)",
      "\u001b[1;32m~\\AppData\\Local\\Temp\\ipykernel_9704\\3610821833.py\u001b[0m in \u001b[0;36m<module>\u001b[1;34m\u001b[0m\n\u001b[1;32m----> 1\u001b[1;33m \u001b[0mcountry_name\u001b[0m\u001b[1;33m(\u001b[0m\u001b[1;34m\"sweden\"\u001b[0m\u001b[1;33m)\u001b[0m\u001b[1;33m\u001b[0m\u001b[1;33m\u001b[0m\u001b[0m\n\u001b[0m",
      "\u001b[1;31mNameError\u001b[0m: name 'country_name' is not defined"
     ]
    }
   ],
   "source": [
    "country_name(\"sweden\")"
   ]
  },
  {
   "cell_type": "code",
   "execution_count": 126,
   "id": "17e10ee1",
   "metadata": {},
   "outputs": [],
   "source": [
    "def even_odd(numbers):\n",
    "    even=[]\n",
    "    odd=[]\n",
    "    fractions=[]\n",
    "    for i in numbers:\n",
    "        if i%2==0:\n",
    "            even.append(i)\n",
    "        elif i%2==1:\n",
    "            odd.append(i)\n",
    "        else:\n",
    "            fraction.append"
   ]
  },
  {
   "cell_type": "code",
   "execution_count": 129,
   "id": "b670944b",
   "metadata": {},
   "outputs": [
    {
     "name": "stdout",
     "output_type": "stream",
     "text": [
      "[2, 4, 6]\n"
     ]
    }
   ],
   "source": [
    "even_odd(2)\n",
    "print(even)"
   ]
  },
  {
   "cell_type": "code",
   "execution_count": 130,
   "id": "8e9ae563",
   "metadata": {},
   "outputs": [
    {
     "name": "stdout",
     "output_type": "stream",
     "text": [
      "[1, 3, 5]\n"
     ]
    }
   ],
   "source": [
    "even_odd(5)\n",
    "print(odd)"
   ]
  },
  {
   "cell_type": "code",
   "execution_count": 131,
   "id": "b7a8452d",
   "metadata": {},
   "outputs": [],
   "source": [
    "salary=[10000,24000,33000,55000,75000]"
   ]
  },
  {
   "cell_type": "code",
   "execution_count": 141,
   "id": "68747966",
   "metadata": {},
   "outputs": [],
   "source": [
    "def cal_tax(i):\n",
    "    if (i < 10000):\n",
    "        tax=\" tax is 0\"\n",
    "    elif (10000<i<30000):\n",
    "        tax=\"tax is 10%\"\n",
    "    else:\n",
    "        tax= \"tax is 20%\"\n",
    "    return tax"
   ]
  },
  {
   "cell_type": "code",
   "execution_count": 143,
   "id": "a03082bd",
   "metadata": {},
   "outputs": [],
   "source": [
    "tax_new =[]\n",
    "for i in salary:\n",
    "    t= cal_tax(i)\n",
    "    tax_new.append(t)"
   ]
  },
  {
   "cell_type": "code",
   "execution_count": 144,
   "id": "2f7add1b",
   "metadata": {},
   "outputs": [
    {
     "name": "stdout",
     "output_type": "stream",
     "text": [
      "['tax is 20%', 'tax is 10%', 'tax is 20%', 'tax is 20%', 'tax is 20%']\n"
     ]
    }
   ],
   "source": [
    "print(tax_new)"
   ]
  },
  {
   "cell_type": "code",
   "execution_count": 138,
   "id": "e5f0321a",
   "metadata": {},
   "outputs": [
    {
     "data": {
      "text/plain": [
       "[]"
      ]
     },
     "execution_count": 138,
     "metadata": {},
     "output_type": "execute_result"
    }
   ],
   "source": [
    "tax_new"
   ]
  },
  {
   "cell_type": "code",
   "execution_count": null,
   "id": "a481a24a",
   "metadata": {},
   "outputs": [],
   "source": []
  }
 ],
 "metadata": {
  "kernelspec": {
   "display_name": "Python 3 (ipykernel)",
   "language": "python",
   "name": "python3"
  },
  "language_info": {
   "codemirror_mode": {
    "name": "ipython",
    "version": 3
   },
   "file_extension": ".py",
   "mimetype": "text/x-python",
   "name": "python",
   "nbconvert_exporter": "python",
   "pygments_lexer": "ipython3",
   "version": "3.9.13"
  }
 },
 "nbformat": 4,
 "nbformat_minor": 5
}
