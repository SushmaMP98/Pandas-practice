{
 "cells": [
  {
   "cell_type": "code",
   "execution_count": null,
   "id": "947f4eda",
   "metadata": {},
   "outputs": [],
   "source": [
    "#attribute is property of class"
   ]
  },
  {
   "cell_type": "code",
   "execution_count": 30,
   "id": "f4bb4b16",
   "metadata": {},
   "outputs": [],
   "source": [
    "class Shark:\n",
    "    #class variables\n",
    "    animal_type = \"fish\"\n",
    "    location = \"ocean\"\n",
    "    #constructor method with instance variables name and age\n",
    "    def _init_(self, name, age):\n",
    "        self.name = name\n",
    "        self.age = age\n",
    "        #method with instance variable followers\n",
    "    def set_followers(self, followers):\n",
    "        print(\"This user has \" + str(followers) + \"followers\")\n",
    "def main():\n",
    "    sammy = Shark(\"Sammy\", 5)\n",
    "        #first object, set up instance variable of constructor method \n",
    "        #print out instance variable name\n",
    "    print(sammy.name)\n",
    "        #print out class variable location\n",
    "    print(sammy.location)"
   ]
  },
  {
   "cell_type": "code",
   "execution_count": 31,
   "id": "421cbaa6",
   "metadata": {},
   "outputs": [
    {
     "ename": "TypeError",
     "evalue": "Shark() takes no arguments",
     "output_type": "error",
     "traceback": [
      "\u001b[1;31m---------------------------------------------------------------------------\u001b[0m",
      "\u001b[1;31mTypeError\u001b[0m                                 Traceback (most recent call last)",
      "\u001b[1;32m~\\AppData\\Local\\Temp\\ipykernel_11928\\451043146.py\u001b[0m in \u001b[0;36m<module>\u001b[1;34m\u001b[0m\n\u001b[1;32m----> 1\u001b[1;33m \u001b[0mmain\u001b[0m\u001b[1;33m(\u001b[0m\u001b[1;33m)\u001b[0m\u001b[1;33m\u001b[0m\u001b[1;33m\u001b[0m\u001b[0m\n\u001b[0m",
      "\u001b[1;32m~\\AppData\\Local\\Temp\\ipykernel_11928\\1731542782.py\u001b[0m in \u001b[0;36mmain\u001b[1;34m()\u001b[0m\n\u001b[0;32m     11\u001b[0m         \u001b[0mprint\u001b[0m\u001b[1;33m(\u001b[0m\u001b[1;34m\"This user has \"\u001b[0m \u001b[1;33m+\u001b[0m \u001b[0mstr\u001b[0m\u001b[1;33m(\u001b[0m\u001b[0mfollowers\u001b[0m\u001b[1;33m)\u001b[0m \u001b[1;33m+\u001b[0m \u001b[1;34m\"followers\"\u001b[0m\u001b[1;33m)\u001b[0m\u001b[1;33m\u001b[0m\u001b[1;33m\u001b[0m\u001b[0m\n\u001b[0;32m     12\u001b[0m \u001b[1;32mdef\u001b[0m \u001b[0mmain\u001b[0m\u001b[1;33m(\u001b[0m\u001b[1;33m)\u001b[0m\u001b[1;33m:\u001b[0m\u001b[1;33m\u001b[0m\u001b[1;33m\u001b[0m\u001b[0m\n\u001b[1;32m---> 13\u001b[1;33m     \u001b[0msammy\u001b[0m \u001b[1;33m=\u001b[0m \u001b[0mShark\u001b[0m\u001b[1;33m(\u001b[0m\u001b[1;34m\"Sammy\"\u001b[0m\u001b[1;33m,\u001b[0m \u001b[1;36m5\u001b[0m\u001b[1;33m)\u001b[0m\u001b[1;33m\u001b[0m\u001b[1;33m\u001b[0m\u001b[0m\n\u001b[0m\u001b[0;32m     14\u001b[0m         \u001b[1;31m#first object, set up instance variable of constructor method\u001b[0m\u001b[1;33m\u001b[0m\u001b[1;33m\u001b[0m\u001b[0m\n\u001b[0;32m     15\u001b[0m         \u001b[1;31m#print out instance variable name\u001b[0m\u001b[1;33m\u001b[0m\u001b[1;33m\u001b[0m\u001b[0m\n",
      "\u001b[1;31mTypeError\u001b[0m: Shark() takes no arguments"
     ]
    }
   ],
   "source": [
    "main()# calling a class"
   ]
  },
  {
   "cell_type": "code",
   "execution_count": null,
   "id": "5a365d99",
   "metadata": {},
   "outputs": [],
   "source": []
  },
  {
   "cell_type": "code",
   "execution_count": null,
   "id": "d4820ef7",
   "metadata": {},
   "outputs": [],
   "source": [
    "#inheritance class"
   ]
  },
  {
   "cell_type": "code",
   "execution_count": 24,
   "id": "7dfd1f69",
   "metadata": {},
   "outputs": [],
   "source": [
    "class Fish: #parent class\n",
    "    def _init_(self, firstname, lastname=\"fish\", skeleton=\"bone\", eyelids=False):\n",
    "        self.firstname = firstname\n",
    "        self.lastname = lastname\n",
    "        self.skeleton = skeleton\n",
    "        self.eyelids = eyelids\n",
    "    def swim(self):\n",
    "        print(\"the fish is swimming.\")\n",
    "    def swimbackwards(self):\n",
    "        print(\"the fish can swim backwards.\")"
   ]
  },
  {
   "cell_type": "code",
   "execution_count": 25,
   "id": "75c33a51",
   "metadata": {},
   "outputs": [],
   "source": [
    "class xyz(Fish): #child class(sub class of parent class)\n",
    "    def swimfast(self):\n",
    "        print(self.firstname)"
   ]
  },
  {
   "cell_type": "code",
   "execution_count": 29,
   "id": "96a44ebb",
   "metadata": {},
   "outputs": [
    {
     "ename": "TypeError",
     "evalue": "xyz() takes no arguments",
     "output_type": "error",
     "traceback": [
      "\u001b[1;31m---------------------------------------------------------------------------\u001b[0m",
      "\u001b[1;31mTypeError\u001b[0m                                 Traceback (most recent call last)",
      "\u001b[1;32m~\\AppData\\Local\\Temp\\ipykernel_11928\\3263296269.py\u001b[0m in \u001b[0;36m<module>\u001b[1;34m\u001b[0m\n\u001b[1;32m----> 1\u001b[1;33m \u001b[0ma\u001b[0m \u001b[1;33m=\u001b[0m \u001b[0mxyz\u001b[0m\u001b[1;33m(\u001b[0m\u001b[1;34m'Nemo'\u001b[0m\u001b[1;33m)\u001b[0m\u001b[1;33m\u001b[0m\u001b[1;33m\u001b[0m\u001b[0m\n\u001b[0m",
      "\u001b[1;31mTypeError\u001b[0m: xyz() takes no arguments"
     ]
    }
   ],
   "source": [
    "a = xyz('Nemo')"
   ]
  },
  {
   "cell_type": "code",
   "execution_count": 20,
   "id": "a84ac6c5",
   "metadata": {},
   "outputs": [
    {
     "ename": "NameError",
     "evalue": "name 'q' is not defined",
     "output_type": "error",
     "traceback": [
      "\u001b[1;31m---------------------------------------------------------------------------\u001b[0m",
      "\u001b[1;31mNameError\u001b[0m                                 Traceback (most recent call last)",
      "\u001b[1;32m~\\AppData\\Local\\Temp\\ipykernel_11928\\2792194514.py\u001b[0m in \u001b[0;36m<module>\u001b[1;34m\u001b[0m\n\u001b[1;32m----> 1\u001b[1;33m \u001b[0mq\u001b[0m\u001b[1;33m.\u001b[0m\u001b[0mskeleton\u001b[0m\u001b[1;33m\u001b[0m\u001b[1;33m\u001b[0m\u001b[0m\n\u001b[0m",
      "\u001b[1;31mNameError\u001b[0m: name 'q' is not defined"
     ]
    }
   ],
   "source": [
    "a."
   ]
  },
  {
   "cell_type": "code",
   "execution_count": null,
   "id": "c82b1c05",
   "metadata": {},
   "outputs": [],
   "source": [
    "s = [1,\"apple\",2,3,4]"
   ]
  },
  {
   "cell_type": "code",
   "execution_count": null,
   "id": "b3c79877",
   "metadata": {},
   "outputs": [],
   "source": [
    "#In Decorators, functions are taken as the argument into another function and then called inside the wrapper function."
   ]
  },
  {
   "cell_type": "code",
   "execution_count": 32,
   "id": "066b532e",
   "metadata": {},
   "outputs": [
    {
     "name": "stdout",
     "output_type": "stream",
     "text": [
      "400\n",
      "200\n"
     ]
    }
   ],
   "source": [
    "def decor1(func): \n",
    "    def inner(): \n",
    "        x = func() \n",
    "        return x * x \n",
    "    return inner \n",
    " \n",
    "def decor(func): \n",
    "    def inner(): \n",
    "        x = func() \n",
    "        return 2 * x \n",
    "    return inner \n",
    " \n",
    "@decor1\n",
    "@decor\n",
    "def num(): \n",
    "    return 10\n",
    " \n",
    "@decor\n",
    "@decor1\n",
    "def num2():\n",
    "    return 10\n",
    "print(num()) \n",
    "print(num2())"
   ]
  },
  {
   "cell_type": "code",
   "execution_count": null,
   "id": "0f4b9c71",
   "metadata": {},
   "outputs": [],
   "source": [
    "#the above example is similar to calling the function as –\n",
    "\n",
    "#decor1(decor(num))\n",
    "#decor(decor1(num2))"
   ]
  },
  {
   "cell_type": "markdown",
   "id": "94ad0e97",
   "metadata": {},
   "source": [
    " "
   ]
  },
  {
   "cell_type": "code",
   "execution_count": 34,
   "id": "472c20fb",
   "metadata": {},
   "outputs": [
    {
     "data": {
      "text/plain": [
       "20"
      ]
     },
     "execution_count": 34,
     "metadata": {},
     "output_type": "execute_result"
    }
   ],
   "source": []
  },
  {
   "cell_type": "code",
   "execution_count": null,
   "id": "05434413",
   "metadata": {},
   "outputs": [],
   "source": [
    "#A Regular Expressions (RegEx) is a special sequence of characters that uses a search pattern to find a string or set of strings."
   ]
  },
  {
   "cell_type": "code",
   "execution_count": 35,
   "id": "7c44adcf",
   "metadata": {},
   "outputs": [],
   "source": [
    "import re #import regex library"
   ]
  },
  {
   "cell_type": "code",
   "execution_count": 36,
   "id": "02b4c8b7",
   "metadata": {},
   "outputs": [
    {
     "data": {
      "text/plain": [
       "<re.Match object; span=(29, 30), match='9'>"
      ]
     },
     "execution_count": 36,
     "metadata": {},
     "output_type": "execute_result"
    }
   ],
   "source": [
    "text = \"i am sushma and my number is 9731034591\"\n",
    "re.search(\"\\d\",text) #\\d to search digits in string"
   ]
  },
  {
   "cell_type": "code",
   "execution_count": 37,
   "id": "8c4dfb77",
   "metadata": {},
   "outputs": [
    {
     "data": {
      "text/plain": [
       "<re.Match object; span=(29, 39), match='9731034591'>"
      ]
     },
     "execution_count": 37,
     "metadata": {},
     "output_type": "execute_result"
    }
   ],
   "source": [
    "text = \"i am sushma and my number is 9731034591\"\n",
    "re.search(\"\\d{10}\",text) #to find 10 digits"
   ]
  },
  {
   "cell_type": "code",
   "execution_count": null,
   "id": "361f0cd3",
   "metadata": {},
   "outputs": [],
   "source": []
  },
  {
   "cell_type": "code",
   "execution_count": null,
   "id": "14af264b",
   "metadata": {},
   "outputs": [],
   "source": [
    "#regex functions\n",
    "#findall\tReturns a list containing all matches\n",
    "#search\tReturns a Match object if there is a match anywhere in the string\n",
    "#split\tReturns a list where the string has been split at each match\n",
    "#sub\tReplaces one or many matches with a string\n"
   ]
  },
  {
   "cell_type": "code",
   "execution_count": 38,
   "id": "3ef0e7f9",
   "metadata": {},
   "outputs": [
    {
     "data": {
      "text/plain": [
       "['i am sushma and my number is ', '']"
      ]
     },
     "execution_count": 38,
     "metadata": {},
     "output_type": "execute_result"
    }
   ],
   "source": [
    "text = \"i am sushma and my number is 9731034591\"\n",
    "re.split(\"\\d{10}\",text)"
   ]
  },
  {
   "cell_type": "code",
   "execution_count": 39,
   "id": "9917a399",
   "metadata": {},
   "outputs": [
    {
     "data": {
      "text/plain": [
       "'my am sushma and my number mys 9731034591'"
      ]
     },
     "execution_count": 39,
     "metadata": {},
     "output_type": "execute_result"
    }
   ],
   "source": [
    "text = \"i am sushma and my number is 9731034591\"\n",
    "re.sub(\"i\",\"my\",text)"
   ]
  },
  {
   "cell_type": "code",
   "execution_count": 41,
   "id": "4e08c564",
   "metadata": {},
   "outputs": [
    {
     "data": {
      "text/plain": [
       "<re.Match object; span=(29, 39), match='9731034591'>"
      ]
     },
     "execution_count": 41,
     "metadata": {},
     "output_type": "execute_result"
    }
   ],
   "source": [
    "#to find phonenumber\n",
    "phoneregex = re.compile(\"\\d{10}|[+91]\")# | is either or option\n",
    "mo = phoneregex.search(text)\n",
    "mo"
   ]
  },
  {
   "cell_type": "code",
   "execution_count": 42,
   "id": "211db4d9",
   "metadata": {},
   "outputs": [
    {
     "data": {
      "text/plain": [
       "<re.Match object; span=(19, 31), match='4155-334-242'>"
      ]
     },
     "execution_count": 42,
     "metadata": {},
     "output_type": "execute_result"
    }
   ],
   "source": [
    "text1 = \"my phone number is 4155-334-242\"\n",
    "reg = re.compile(\"\\d{4}-\\d{3}-\\d{3}\")\n",
    "mo1 = reg.search(text1)\n",
    "mo1"
   ]
  },
  {
   "cell_type": "code",
   "execution_count": 43,
   "id": "1d280b8a",
   "metadata": {},
   "outputs": [
    {
     "data": {
      "text/plain": [
       "'4155'"
      ]
     },
     "execution_count": 43,
     "metadata": {},
     "output_type": "execute_result"
    }
   ],
   "source": [
    "#if you want subgroups of phone number use ()\n",
    "text1 = \"my phone number is 4155-334-242\"\n",
    "reg = re.compile(\"(\\d{4})-(\\d{3})-(\\d{3})\")\n",
    "mo1 = reg.search(text1)\n",
    "mo1.group(1)"
   ]
  },
  {
   "cell_type": "code",
   "execution_count": 44,
   "id": "da4009d3",
   "metadata": {},
   "outputs": [
    {
     "data": {
      "text/plain": [
       "'334'"
      ]
     },
     "execution_count": 44,
     "metadata": {},
     "output_type": "execute_result"
    }
   ],
   "source": [
    "mo1.group(2)"
   ]
  },
  {
   "cell_type": "code",
   "execution_count": 47,
   "id": "252f7b43",
   "metadata": {},
   "outputs": [
    {
     "data": {
      "text/plain": [
       "'242'"
      ]
     },
     "execution_count": 47,
     "metadata": {},
     "output_type": "execute_result"
    }
   ],
   "source": [
    "mo1.group(3)"
   ]
  },
  {
   "cell_type": "code",
   "execution_count": null,
   "id": "067b0d94",
   "metadata": {},
   "outputs": [],
   "source": [
    "#to search a name by \\w(to find characters a to z, digits from 0 to 9,and underscore)"
   ]
  },
  {
   "cell_type": "code",
   "execution_count": 50,
   "id": "49cca514",
   "metadata": {},
   "outputs": [
    {
     "data": {
      "text/plain": [
       "<re.Match object; span=(3, 17), match='name is sushma'>"
      ]
     },
     "execution_count": 50,
     "metadata": {},
     "output_type": "execute_result"
    }
   ],
   "source": [
    "text2 = \"my name is sushma prakash, my phone number is 1345-897-543\"\n",
    "nam = re.compile(\"name is \\w*\")# * used for zero or more ocuurance\n",
    "mo2 = nam.search(text2)\n",
    "mo2"
   ]
  },
  {
   "cell_type": "code",
   "execution_count": 51,
   "id": "b2a76472",
   "metadata": {},
   "outputs": [
    {
     "data": {
      "text/plain": [
       "<re.Match object; span=(3, 25), match='name is sushma prakash'>"
      ]
     },
     "execution_count": 51,
     "metadata": {},
     "output_type": "execute_result"
    }
   ],
   "source": [
    "nam = re.compile(\"name is \\w*\\s?\\w*\")# \\s used for space\n",
    "mo2 = nam.search(text2)              # ? used for zero or one occurance\n",
    "mo2"
   ]
  },
  {
   "cell_type": "code",
   "execution_count": null,
   "id": "6a0c0498",
   "metadata": {},
   "outputs": [],
   "source": []
  }
 ],
 "metadata": {
  "kernelspec": {
   "display_name": "Python 3 (ipykernel)",
   "language": "python",
   "name": "python3"
  },
  "language_info": {
   "codemirror_mode": {
    "name": "ipython",
    "version": 3
   },
   "file_extension": ".py",
   "mimetype": "text/x-python",
   "name": "python",
   "nbconvert_exporter": "python",
   "pygments_lexer": "ipython3",
   "version": "3.9.13"
  }
 },
 "nbformat": 4,
 "nbformat_minor": 5
}
