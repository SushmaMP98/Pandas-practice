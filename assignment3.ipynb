{
 "cells": [
  {
   "cell_type": "code",
   "execution_count": 8,
   "id": "3b672bc7",
   "metadata": {},
   "outputs": [
    {
     "name": "stdout",
     "output_type": "stream",
     "text": [
      "amaama string is symmetrical\n"
     ]
    }
   ],
   "source": [
    "string = 'amaama'\n",
    "half = int(len(string) / 2)\n",
    "first_str = string[:half]\n",
    "second_str = string[half:]\n",
    "if first_str == second_str:\n",
    "    print(string, 'string is symmetrical')\n",
    "else:\n",
    "    print(string, 'string is not symmetrical')\n",
    " "
   ]
  },
  {
   "cell_type": "code",
   "execution_count": 20,
   "id": "c87bf8c1",
   "metadata": {},
   "outputs": [
    {
     "name": "stdout",
     "output_type": "stream",
     "text": [
      "malayalam string is palindrome\n"
     ]
    }
   ],
   "source": [
    "if first_str == second_str[::-1]:\n",
    "    print(string, \"string is palindrome\")\n",
    "else:\n",
    "    print(string,\"string is not palindrome\")\n"
   ]
  },
  {
   "cell_type": "code",
   "execution_count": 21,
   "id": "23376e6c",
   "metadata": {},
   "outputs": [
    {
     "name": "stdout",
     "output_type": "stream",
     "text": [
      "v,string is not palindrome\n"
     ]
    }
   ],
   "source": [
    "v=\"karak\"\n",
    "if v == reversed(v):\n",
    "    print(\"v,string is palindrome\")\n",
    "else:\n",
    "    print(\"v,string is not palindrome\")"
   ]
  },
  {
   "cell_type": "code",
   "execution_count": 22,
   "id": "be597e98",
   "metadata": {},
   "outputs": [
    {
     "name": "stdout",
     "output_type": "stream",
     "text": [
      "input, symmetrical\n"
     ]
    }
   ],
   "source": [
    "input=\"khokho\"\n",
    "halve=int(len(input)/2)\n",
    "fi_halve=input[:halve]\n",
    "se_halve=input[halve:]\n",
    "if fi_halve==se_halve:\n",
    "    print(\"input, symmetrical\")\n",
    "else:\n",
    "    print(\"input, not symmetrical\")"
   ]
  },
  {
   "cell_type": "code",
   "execution_count": null,
   "id": "90547e52",
   "metadata": {},
   "outputs": [],
   "source": [
    "if fi_halve == se_halve[::-1]:\n",
    "    print()"
   ]
  }
 ],
 "metadata": {
  "kernelspec": {
   "display_name": "Python 3 (ipykernel)",
   "language": "python",
   "name": "python3"
  },
  "language_info": {
   "codemirror_mode": {
    "name": "ipython",
    "version": 3
   },
   "file_extension": ".py",
   "mimetype": "text/x-python",
   "name": "python",
   "nbconvert_exporter": "python",
   "pygments_lexer": "ipython3",
   "version": "3.9.13"
  }
 },
 "nbformat": 4,
 "nbformat_minor": 5
}
