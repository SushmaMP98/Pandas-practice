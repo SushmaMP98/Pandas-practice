{
 "cells": [
  {
   "cell_type": "code",
   "execution_count": null,
   "id": "766013de",
   "metadata": {},
   "outputs": [],
   "source": [
    "string = \"geeks quiz practice code\""
   ]
  },
  {
   "cell_type": "code",
   "execution_count": 3,
   "id": "1f5bb060",
   "metadata": {},
   "outputs": [
    {
     "ename": "NameError",
     "evalue": "name 'string' is not defined",
     "output_type": "error",
     "traceback": [
      "\u001b[1;31m---------------------------------------------------------------------------\u001b[0m",
      "\u001b[1;31mNameError\u001b[0m                                 Traceback (most recent call last)",
      "\u001b[1;32m~\\AppData\\Local\\Temp\\ipykernel_17372\\463328065.py\u001b[0m in \u001b[0;36m<module>\u001b[1;34m\u001b[0m\n\u001b[1;32m----> 1\u001b[1;33m \u001b[0ms\u001b[0m \u001b[1;33m=\u001b[0m \u001b[0mstring\u001b[0m\u001b[1;33m.\u001b[0m\u001b[0msplit\u001b[0m\u001b[1;33m(\u001b[0m\u001b[1;33m)\u001b[0m\u001b[1;33m\u001b[0m\u001b[1;33m\u001b[0m\u001b[0m\n\u001b[0m\u001b[0;32m      2\u001b[0m \u001b[0mprint\u001b[0m\u001b[1;33m(\u001b[0m\u001b[0ms\u001b[0m\u001b[1;33m)\u001b[0m\u001b[1;33m\u001b[0m\u001b[1;33m\u001b[0m\u001b[0m\n",
      "\u001b[1;31mNameError\u001b[0m: name 'string' is not defined"
     ]
    }
   ],
   "source": []
  },
  {
   "cell_type": "code",
   "execution_count": 4,
   "id": "f6f50c9e",
   "metadata": {},
   "outputs": [
    {
     "name": "stdout",
     "output_type": "stream",
     "text": [
      "geeks\n",
      "geeks quiz\n",
      "geeks quiz practice\n",
      "geeks quiz practice code\n"
     ]
    }
   ],
   "source": [
    "string = \"geeks quiz practice code\"\n",
    "s = string.split()\n",
    "l = []\n",
    "for i in s:\n",
    "    l.append(i)\n",
    "    print(\" \".join(l))"
   ]
  },
  {
   "cell_type": "code",
   "execution_count": 5,
   "id": "a8cfed28",
   "metadata": {},
   "outputs": [
    {
     "name": "stdout",
     "output_type": "stream",
     "text": [
      "['code', 'practice', 'quiz', 'geeks']\n"
     ]
    }
   ],
   "source": [
    "s = string.split()[::-1]\n",
    "l = []\n",
    "for i in s:\n",
    "    l.append(i)\n",
    "print(l)"
   ]
  },
  {
   "cell_type": "code",
   "execution_count": 7,
   "id": "7e4c8028",
   "metadata": {},
   "outputs": [
    {
     "name": "stdout",
     "output_type": "stream",
     "text": [
      "codepracticequizgeeks\n"
     ]
    }
   ],
   "source": [
    "s = string.split()[::-1]\n",
    "l = []\n",
    "for i in s:\n",
    "    l.append(i)\n",
    "print(\"\".join(l))"
   ]
  },
  {
   "cell_type": "code",
   "execution_count": 8,
   "id": "03451450",
   "metadata": {},
   "outputs": [
    {
     "name": "stdout",
     "output_type": "stream",
     "text": [
      "code practice quiz geeks\n"
     ]
    }
   ],
   "source": [
    "s = string.split()[::-1]\n",
    "l = []\n",
    "for i in s:\n",
    "    l.append(i)\n",
    "print(\" \".join(l))"
   ]
  },
  {
   "cell_type": "code",
   "execution_count": 10,
   "id": "edb8a4e0",
   "metadata": {},
   "outputs": [
    {
     "data": {
      "text/plain": [
       "['geeks', 'quiz', 'practice', 'code']"
      ]
     },
     "execution_count": 10,
     "metadata": {},
     "output_type": "execute_result"
    }
   ],
   "source": [
    "string.split()"
   ]
  },
  {
   "cell_type": "code",
   "execution_count": 12,
   "id": "97d04876",
   "metadata": {},
   "outputs": [
    {
     "name": "stdout",
     "output_type": "stream",
     "text": [
      "geeks quiz practice code\n"
     ]
    }
   ],
   "source": [
    "print(\" \".join(string.split()))"
   ]
  },
  {
   "cell_type": "code",
   "execution_count": 18,
   "id": "b6a99188",
   "metadata": {},
   "outputs": [],
   "source": [
    "re=\"sushma\""
   ]
  },
  {
   "cell_type": "code",
   "execution_count": 21,
   "id": "e58a9f3e",
   "metadata": {},
   "outputs": [
    {
     "ename": "AttributeError",
     "evalue": "'str' object has no attribute 'list'",
     "output_type": "error",
     "traceback": [
      "\u001b[1;31m---------------------------------------------------------------------------\u001b[0m",
      "\u001b[1;31mAttributeError\u001b[0m                            Traceback (most recent call last)",
      "\u001b[1;32m~\\AppData\\Local\\Temp\\ipykernel_17372\\3015994674.py\u001b[0m in \u001b[0;36m<module>\u001b[1;34m\u001b[0m\n\u001b[1;32m----> 1\u001b[1;33m \u001b[0mre\u001b[0m\u001b[1;33m.\u001b[0m\u001b[0mlist\u001b[0m\u001b[1;33m(\u001b[0m\u001b[1;33m)\u001b[0m\u001b[1;33m\u001b[0m\u001b[1;33m\u001b[0m\u001b[0m\n\u001b[0m",
      "\u001b[1;31mAttributeError\u001b[0m: 'str' object has no attribute 'list'"
     ]
    }
   ],
   "source": []
  },
  {
   "cell_type": "code",
   "execution_count": 24,
   "id": "c2cd496c",
   "metadata": {},
   "outputs": [
    {
     "name": "stdout",
     "output_type": "stream",
     "text": [
      "the original string is:geeksforgeeks\n",
      "the resultant string::geeksfORGEEKS\n"
     ]
    }
   ],
   "source": [
    "test_str = \"geeksforgeeks\"\n",
    "print(\"the original string is:\" + test_str)\n",
    "hlf_index = len(test_str)//2\n",
    "res = test_str[:hlf_index] + test_str[hlf_index:].upper()\n",
    "print(\"the resultant string:\" + str(res))"
   ]
  },
  {
   "cell_type": "code",
   "execution_count": 34,
   "id": "64c3dbde",
   "metadata": {},
   "outputs": [
    {
     "name": "stdout",
     "output_type": "stream",
     "text": [
      "APPles\n"
     ]
    }
   ],
   "source": [
    "inp = \"apples\"\n",
    "half = len(inp)//2\n",
    "resu = inp[:half].upper() + inp[half:]\n",
    "print(str(resu))"
   ]
  },
  {
   "cell_type": "code",
   "execution_count": null,
   "id": "3ce05649",
   "metadata": {},
   "outputs": [],
   "source": [
    "#ask is to print all words with even length in the given string."
   ]
  },
  {
   "cell_type": "code",
   "execution_count": 39,
   "id": "6baf9b60",
   "metadata": {},
   "outputs": [
    {
     "name": "stdout",
     "output_type": "stream",
     "text": [
      "this\n",
      "is\n",
      "python\n",
      "language\n"
     ]
    }
   ],
   "source": [
    "n = \"this is python language\"\n",
    "s = n.split(\" \")\n",
    "for i in s:\n",
    "    if len(i)%2 == 0:\n",
    "        print(i)"
   ]
  },
  {
   "cell_type": "code",
   "execution_count": null,
   "id": "83c0726c",
   "metadata": {},
   "outputs": [],
   "source": [
    "#the task is to capitalize the first and last character of each word in a string. "
   ]
  },
  {
   "cell_type": "code",
   "execution_count": 41,
   "id": "9e76ffff",
   "metadata": {},
   "outputs": [
    {
     "name": "stdout",
     "output_type": "stream",
     "text": [
      "WelcomE TO GeeksforgeekS\n"
     ]
    }
   ],
   "source": [
    "h = \"welcome to geeksforgeeks\"\n",
    "a = h.split(\" \")\n",
    "r = []\n",
    "for i in a:\n",
    "    d = i[0].upper()+i[1:-1]+i[-1].upper()\n",
    "    r.append(d)\n",
    "r = \" \".join(r)\n",
    "print(r)\n"
   ]
  },
  {
   "cell_type": "code",
   "execution_count": null,
   "id": "a8e7f4be",
   "metadata": {},
   "outputs": [],
   "source": [
    "#to check if a string has at least one letter and one number"
   ]
  },
  {
   "cell_type": "code",
   "execution_count": 49,
   "id": "c63ed9b4",
   "metadata": {},
   "outputs": [],
   "source": [
    "def checkstring (str):\n",
    "    flag_l = False\n",
    "    flag_n = False\n",
    "    for i in str:\n",
    "        if i.isalpha():\n",
    "            flag_l = True\n",
    "        if i.isdigit():\n",
    "            flag_n = True\n",
    "    return flag_l and flag_n"
   ]
  },
  {
   "cell_type": "code",
   "execution_count": 50,
   "id": "7011d1ff",
   "metadata": {},
   "outputs": [
    {
     "name": "stdout",
     "output_type": "stream",
     "text": [
      "True\n"
     ]
    }
   ],
   "source": [
    "print (checkstring (\"thishasboth29\"))"
   ]
  },
  {
   "cell_type": "code",
   "execution_count": null,
   "id": "68ba0f2e",
   "metadata": {},
   "outputs": [],
   "source": []
  },
  {
   "cell_type": "code",
   "execution_count": null,
   "id": "256aa858",
   "metadata": {},
   "outputs": [],
   "source": []
  }
 ],
 "metadata": {
  "kernelspec": {
   "display_name": "Python 3 (ipykernel)",
   "language": "python",
   "name": "python3"
  },
  "language_info": {
   "codemirror_mode": {
    "name": "ipython",
    "version": 3
   },
   "file_extension": ".py",
   "mimetype": "text/x-python",
   "name": "python",
   "nbconvert_exporter": "python",
   "pygments_lexer": "ipython3",
   "version": "3.9.13"
  }
 },
 "nbformat": 4,
 "nbformat_minor": 5
}
