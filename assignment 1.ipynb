{
 "cells": [
  {
   "cell_type": "code",
   "execution_count": 17,
   "id": "39942fe0",
   "metadata": {},
   "outputs": [
    {
     "name": "stdout",
     "output_type": "stream",
     "text": [
      "[1505, 1540, 1575, 1610, 1645, 1680, 1715, 1750, 1785, 1820, 1855, 1890, 1925, 1960, 1995, 2030, 2065, 2100, 2135, 2170, 2205, 2240, 2275, 2310, 2345, 2380, 2415, 2450, 2485, 2520, 2555, 2590, 2625, 2660, 2695]\n"
     ]
    }
   ],
   "source": [
    "#  Write a Python program to find those numbers which are divisible by 7 and multiples of 5, between 1500 and 2700 (both included)\n",
    "a = []\n",
    "for i in range(1500, 2701):\n",
    "    if (i%7 == 0) & (i%5==0):\n",
    "        a.append(i)\n",
    "print(a)"
   ]
  },
  {
   "cell_type": "code",
   "execution_count": 39,
   "id": "3ec2cc2b",
   "metadata": {},
   "outputs": [
    {
     "name": "stdout",
     "output_type": "stream",
     "text": [
      "temp you want to convert23f\n",
      "-1.0C\n",
      " The temp is -1.0C degrees\n"
     ]
    }
   ],
   "source": [
    "# Write a Python program to convert temperatures to and from Celsius and Fahrenheit\n",
    "# Formula : c/5 = f-32/9 [ where c = temperature in celsius and f = temperature in fahrenheit \n",
    "a = input(\"temp you want to convert\")\n",
    "degree = int(a[:-1])\n",
    "f_or_c = a[-1]\n",
    "\n",
    "if f_or_c.upper() == \"C\":\n",
    "    result = str(degree/5) + \"F\"\n",
    "    print(result)\n",
    "elif f_or_c.upper() == \"F\":\n",
    "    result = str((degree-32)/9) + \"C\"\n",
    "    print(result)\n",
    "print( f\" The temp is {result} degrees\")"
   ]
  },
  {
   "cell_type": "code",
   "execution_count": 45,
   "id": "78fa82f1",
   "metadata": {},
   "outputs": [
    {
     "name": "stdout",
     "output_type": "stream",
     "text": [
      "[1]\n",
      "[1, 10]\n"
     ]
    }
   ],
   "source": [
    "# Write a Python program to guess a number between 1 and 9\n",
    "a = []\n",
    "for i in (1, 10):\n",
    "    a.append(i)\n",
    "    print(a)"
   ]
  },
  {
   "cell_type": "code",
   "execution_count": 46,
   "id": "a10d3247",
   "metadata": {},
   "outputs": [],
   "source": [
    "import random"
   ]
  },
  {
   "cell_type": "code",
   "execution_count": 48,
   "id": "7c8a78af",
   "metadata": {},
   "outputs": [
    {
     "ename": "TypeError",
     "evalue": "'module' object is not callable",
     "output_type": "error",
     "traceback": [
      "\u001b[1;31m---------------------------------------------------------------------------\u001b[0m",
      "\u001b[1;31mTypeError\u001b[0m                                 Traceback (most recent call last)",
      "\u001b[1;32m~\\AppData\\Local\\Temp\\ipykernel_10284\\1071315511.py\u001b[0m in \u001b[0;36m<module>\u001b[1;34m\u001b[0m\n\u001b[0;32m      1\u001b[0m \u001b[0ma\u001b[0m \u001b[1;33m=\u001b[0m \u001b[1;33m[\u001b[0m\u001b[1;33m]\u001b[0m\u001b[1;33m\u001b[0m\u001b[1;33m\u001b[0m\u001b[0m\n\u001b[0;32m      2\u001b[0m \u001b[1;32mfor\u001b[0m \u001b[0mi\u001b[0m \u001b[1;32min\u001b[0m \u001b[1;33m(\u001b[0m\u001b[1;36m1\u001b[0m\u001b[1;33m,\u001b[0m\u001b[1;36m10\u001b[0m\u001b[1;33m)\u001b[0m\u001b[1;33m:\u001b[0m\u001b[1;33m\u001b[0m\u001b[1;33m\u001b[0m\u001b[0m\n\u001b[1;32m----> 3\u001b[1;33m     \u001b[0ma\u001b[0m\u001b[1;33m.\u001b[0m\u001b[0mappend\u001b[0m\u001b[1;33m(\u001b[0m\u001b[0mrandom\u001b[0m\u001b[1;33m(\u001b[0m\u001b[0mi\u001b[0m\u001b[1;33m)\u001b[0m\u001b[1;33m)\u001b[0m\u001b[1;33m\u001b[0m\u001b[1;33m\u001b[0m\u001b[0m\n\u001b[0m",
      "\u001b[1;31mTypeError\u001b[0m: 'module' object is not callable"
     ]
    }
   ],
   "source": [
    "a = []\n",
    "for i in (1,10):\n",
    "    a.append(random(i))"
   ]
  },
  {
   "cell_type": "code",
   "execution_count": 49,
   "id": "343169cf",
   "metadata": {},
   "outputs": [],
   "source": [
    "import random\n"
   ]
  },
  {
   "cell_type": "code",
   "execution_count": null,
   "id": "6fd9c77d",
   "metadata": {},
   "outputs": [],
   "source": [
    "rand_number, guess_number = random.randint(1,10), 0\n",
    "\n",
    "while rand_number != guess_number:\n",
    "    int(input(\"Guess a number between 1 to 10\"))\n",
    "print(rand_number)"
   ]
  },
  {
   "cell_type": "code",
   "execution_count": 4,
   "id": "060c3a00",
   "metadata": {},
   "outputs": [
    {
     "name": "stdout",
     "output_type": "stream",
     "text": [
      "A word that you want to reversesusd\n",
      "['s', 'u', 's', 'd']\n"
     ]
    }
   ],
   "source": [
    "a = input(\"A word that you want to reverse\")\n",
    "reverse = []\n",
    "\n",
    "for i in a:\n",
    "    a = a[::-1]\n",
    "    reverse.append(i)\n",
    "print(reverse)\n",
    "    "
   ]
  },
  {
   "cell_type": "code",
   "execution_count": 5,
   "id": "e3bacd65",
   "metadata": {},
   "outputs": [
    {
     "name": "stdout",
     "output_type": "stream",
     "text": [
      "A word that you want to reversesusd\n",
      "dsus\n"
     ]
    }
   ],
   "source": [
    "a = input(\"A word that you want to reverse\")\n",
    "reverse = a[::-1]\n",
    "print(reverse)"
   ]
  },
  {
   "cell_type": "code",
   "execution_count": 10,
   "id": "f9ffe7f5",
   "metadata": {},
   "outputs": [
    {
     "name": "stdout",
     "output_type": "stream",
     "text": [
      "Input a word to reverse: srd\n",
      "drs\n",
      "\n"
     ]
    }
   ],
   "source": [
    "word = input(\"Input a word to reverse: \")\n",
    "\n",
    "for char in range(len(word) - 1, -1, -1):\n",
    "      print(word[char], end=\"\")\n",
    "print(\"\\n\")"
   ]
  },
  {
   "cell_type": "code",
   "execution_count": null,
   "id": "e8b5bbc8",
   "metadata": {},
   "outputs": [],
   "source": [
    "word = input(\"a word : \")\n",
    "for i in range(len(word)-1, -1,-1):\n",
    "    print(word[i] , end = \"\")"
   ]
  },
  {
   "cell_type": "code",
   "execution_count": 2,
   "id": "ca4a5496",
   "metadata": {},
   "outputs": [
    {
     "name": "stdout",
     "output_type": "stream",
     "text": [
      "* \n",
      "** \n",
      "*** \n",
      "**** \n"
     ]
    }
   ],
   "source": [
    "n = 5\n",
    "for i in range(1, n):\n",
    "    for j in range(0,i):\n",
    "        print(\"*\", end = \"\")\n",
    "    print(' ')"
   ]
  },
  {
   "cell_type": "code",
   "execution_count": 5,
   "id": "3d35dad3",
   "metadata": {},
   "outputs": [
    {
     "name": "stdout",
     "output_type": "stream",
     "text": [
      " \n",
      "*  \n",
      "* *  \n",
      "* * *  \n",
      "* * * *  \n",
      "* * * * *  \n",
      "* * * * * *  \n",
      "* * * * *  \n",
      "* * * *  \n",
      "* * *  \n",
      "* *  \n",
      "*  \n"
     ]
    }
   ],
   "source": [
    "n = 6 \n",
    "for i in range(n):\n",
    "    for j in range(i):\n",
    "        print(\"*\", end = \" \")\n",
    "    print(' ')\n",
    "for i in range(n, 0 , -1):\n",
    "    for j in range(i):\n",
    "        print(\"*\", end = \" \")\n",
    "    print(' ')"
   ]
  },
  {
   "cell_type": "code",
   "execution_count": 9,
   "id": "9a00466f",
   "metadata": {},
   "outputs": [],
   "source": [
    "prime_number = []\n",
    "\n",
    "for num in range (1, 101):\n",
    "    if (i % i == 1):\n",
    "        prime_number.append(i)\n",
    "        print(prime_number)"
   ]
  },
  {
   "cell_type": "code",
   "execution_count": 11,
   "id": "9045bc39",
   "metadata": {},
   "outputs": [],
   "source": [
    "# Write a Python program to count the number of even and odd numbers in a series of numbers "
   ]
  },
  {
   "cell_type": "code",
   "execution_count": 19,
   "id": "89c190a0",
   "metadata": {},
   "outputs": [
    {
     "name": "stdout",
     "output_type": "stream",
     "text": [
      "[2, 4, 6, 8]\n",
      "[3, 5, 7, 9]\n"
     ]
    }
   ],
   "source": [
    "even_number = []\n",
    "odd_number = []\n",
    "for i in range (2,10):\n",
    "    if i % 2 == 0:\n",
    "        even_number.append(i)\n",
    "    else:\n",
    "        if i % 2 == 1:\n",
    "            odd_number.append(i)\n",
    "print(even_number)\n",
    "print(odd_number)"
   ]
  },
  {
   "cell_type": "code",
   "execution_count": 23,
   "id": "a6b6cd9e",
   "metadata": {},
   "outputs": [
    {
     "name": "stdout",
     "output_type": "stream",
     "text": [
      "0 1 2 4 5 "
     ]
    }
   ],
   "source": [
    "# Write a Python program that prints all the numbers from 0 to 6 except 3 and 6.\n",
    "for i in range(0, 7):\n",
    "    if (i == 3 or i == 6):\n",
    "        continue\n",
    "    print(i, end = ' ')\n",
    "        "
   ]
  },
  {
   "cell_type": "code",
   "execution_count": 25,
   "id": "eb553e70",
   "metadata": {},
   "outputs": [
    {
     "name": "stdout",
     "output_type": "stream",
     "text": [
      "1\n",
      "1\n",
      "1\n",
      "1\n",
      "1\n",
      "1\n",
      "1\n",
      "1\n",
      "1\n",
      "1\n",
      "1\n",
      "1\n",
      "1\n",
      "1\n",
      "1\n",
      "1\n",
      "1\n",
      "1\n",
      "1\n",
      "1\n",
      "1\n",
      "1\n",
      "1\n",
      "1\n",
      "1\n",
      "1\n",
      "1\n",
      "1\n",
      "1\n",
      "1\n",
      "1\n",
      "1\n",
      "1\n",
      "1\n",
      "1\n",
      "1\n",
      "1\n",
      "1\n",
      "1\n",
      "1\n",
      "1\n",
      "1\n",
      "1\n",
      "1\n",
      "1\n",
      "1\n",
      "1\n",
      "1\n",
      "1\n",
      "1\n"
     ]
    }
   ],
   "source": [
    "#  Write a Python program to get the Fibonacci series between 0 and 50.\n",
    "x, y = 0,1\n",
    "while x \n",
    "    print(y)\n",
    "x, y = y, x+y    "
   ]
  },
  {
   "cell_type": "code",
   "execution_count": null,
   "id": "73e7d61d",
   "metadata": {},
   "outputs": [],
   "source": []
  }
 ],
 "metadata": {
  "kernelspec": {
   "display_name": "Python 3 (ipykernel)",
   "language": "python",
   "name": "python3"
  },
  "language_info": {
   "codemirror_mode": {
    "name": "ipython",
    "version": 3
   },
   "file_extension": ".py",
   "mimetype": "text/x-python",
   "name": "python",
   "nbconvert_exporter": "python",
   "pygments_lexer": "ipython3",
   "version": "3.9.13"
  }
 },
 "nbformat": 4,
 "nbformat_minor": 5
}
